{
    "cells": [
        {
            "cell_type": "markdown",
            "metadata": {},
            "source": [
                "# Explore here"
            ]
        },
        {
            "cell_type": "code",
            "execution_count": 2,
            "metadata": {},
            "outputs": [],
            "source": [
                "import pandas as pd \n",
                "import matplotlib.pyplot as plt \n",
                "import seaborn as sns\n",
                "import numpy as np "
            ]
        },
        {
            "cell_type": "code",
            "execution_count": 3,
            "metadata": {},
            "outputs": [
                {
                    "data": {
                        "text/html": [
                            "<div>\n",
                            "<style scoped>\n",
                            "    .dataframe tbody tr th:only-of-type {\n",
                            "        vertical-align: middle;\n",
                            "    }\n",
                            "\n",
                            "    .dataframe tbody tr th {\n",
                            "        vertical-align: top;\n",
                            "    }\n",
                            "\n",
                            "    .dataframe thead th {\n",
                            "        text-align: right;\n",
                            "    }\n",
                            "</style>\n",
                            "<table border=\"1\" class=\"dataframe\">\n",
                            "  <thead>\n",
                            "    <tr style=\"text-align: right;\">\n",
                            "      <th></th>\n",
                            "      <th>package_name</th>\n",
                            "      <th>review</th>\n",
                            "      <th>polarity</th>\n",
                            "    </tr>\n",
                            "  </thead>\n",
                            "  <tbody>\n",
                            "    <tr>\n",
                            "      <th>0</th>\n",
                            "      <td>com.facebook.katana</td>\n",
                            "      <td>privacy at least put some option appear offli...</td>\n",
                            "      <td>0</td>\n",
                            "    </tr>\n",
                            "    <tr>\n",
                            "      <th>1</th>\n",
                            "      <td>com.facebook.katana</td>\n",
                            "      <td>messenger issues ever since the last update, ...</td>\n",
                            "      <td>0</td>\n",
                            "    </tr>\n",
                            "    <tr>\n",
                            "      <th>2</th>\n",
                            "      <td>com.facebook.katana</td>\n",
                            "      <td>profile any time my wife or anybody has more ...</td>\n",
                            "      <td>0</td>\n",
                            "    </tr>\n",
                            "    <tr>\n",
                            "      <th>3</th>\n",
                            "      <td>com.facebook.katana</td>\n",
                            "      <td>the new features suck for those of us who don...</td>\n",
                            "      <td>0</td>\n",
                            "    </tr>\n",
                            "    <tr>\n",
                            "      <th>4</th>\n",
                            "      <td>com.facebook.katana</td>\n",
                            "      <td>forced reload on uploading pic on replying co...</td>\n",
                            "      <td>0</td>\n",
                            "    </tr>\n",
                            "  </tbody>\n",
                            "</table>\n",
                            "</div>"
                        ],
                        "text/plain": [
                            "          package_name                                             review  \\\n",
                            "0  com.facebook.katana   privacy at least put some option appear offli...   \n",
                            "1  com.facebook.katana   messenger issues ever since the last update, ...   \n",
                            "2  com.facebook.katana   profile any time my wife or anybody has more ...   \n",
                            "3  com.facebook.katana   the new features suck for those of us who don...   \n",
                            "4  com.facebook.katana   forced reload on uploading pic on replying co...   \n",
                            "\n",
                            "   polarity  \n",
                            "0         0  \n",
                            "1         0  \n",
                            "2         0  \n",
                            "3         0  \n",
                            "4         0  "
                        ]
                    },
                    "execution_count": 3,
                    "metadata": {},
                    "output_type": "execute_result"
                }
            ],
            "source": [
                "url = \"https://raw.githubusercontent.com/4GeeksAcademy/naive-bayes-project-tutorial/main/playstore_reviews.csv\"\n",
                "datos = pd.read_csv(url)\n",
                "datos.head()"
            ]
        },
        {
            "cell_type": "code",
            "execution_count": 4,
            "metadata": {},
            "outputs": [
                {
                    "data": {
                        "text/plain": [
                            "(891, 3)"
                        ]
                    },
                    "execution_count": 4,
                    "metadata": {},
                    "output_type": "execute_result"
                }
            ],
            "source": [
                "datos.shape "
            ]
        },
        {
            "cell_type": "code",
            "execution_count": 5,
            "metadata": {},
            "outputs": [
                {
                    "name": "stdout",
                    "output_type": "stream",
                    "text": [
                        "(891, 2)\n"
                    ]
                },
                {
                    "data": {
                        "text/html": [
                            "<div>\n",
                            "<style scoped>\n",
                            "    .dataframe tbody tr th:only-of-type {\n",
                            "        vertical-align: middle;\n",
                            "    }\n",
                            "\n",
                            "    .dataframe tbody tr th {\n",
                            "        vertical-align: top;\n",
                            "    }\n",
                            "\n",
                            "    .dataframe thead th {\n",
                            "        text-align: right;\n",
                            "    }\n",
                            "</style>\n",
                            "<table border=\"1\" class=\"dataframe\">\n",
                            "  <thead>\n",
                            "    <tr style=\"text-align: right;\">\n",
                            "      <th></th>\n",
                            "      <th>review</th>\n",
                            "      <th>polarity</th>\n",
                            "    </tr>\n",
                            "  </thead>\n",
                            "  <tbody>\n",
                            "    <tr>\n",
                            "      <th>0</th>\n",
                            "      <td>privacy at least put some option appear offli...</td>\n",
                            "      <td>0</td>\n",
                            "    </tr>\n",
                            "    <tr>\n",
                            "      <th>1</th>\n",
                            "      <td>messenger issues ever since the last update, ...</td>\n",
                            "      <td>0</td>\n",
                            "    </tr>\n",
                            "    <tr>\n",
                            "      <th>2</th>\n",
                            "      <td>profile any time my wife or anybody has more ...</td>\n",
                            "      <td>0</td>\n",
                            "    </tr>\n",
                            "    <tr>\n",
                            "      <th>3</th>\n",
                            "      <td>the new features suck for those of us who don...</td>\n",
                            "      <td>0</td>\n",
                            "    </tr>\n",
                            "    <tr>\n",
                            "      <th>4</th>\n",
                            "      <td>forced reload on uploading pic on replying co...</td>\n",
                            "      <td>0</td>\n",
                            "    </tr>\n",
                            "  </tbody>\n",
                            "</table>\n",
                            "</div>"
                        ],
                        "text/plain": [
                            "                                              review  polarity\n",
                            "0   privacy at least put some option appear offli...         0\n",
                            "1   messenger issues ever since the last update, ...         0\n",
                            "2   profile any time my wife or anybody has more ...         0\n",
                            "3   the new features suck for those of us who don...         0\n",
                            "4   forced reload on uploading pic on replying co...         0"
                        ]
                    },
                    "execution_count": 5,
                    "metadata": {},
                    "output_type": "execute_result"
                }
            ],
            "source": [
                "datos = datos.drop(columns=[\"package_name\"]) \n",
                "print(datos.shape)\n",
                "datos.head()"
            ]
        },
        {
            "cell_type": "code",
            "execution_count": 6,
            "metadata": {},
            "outputs": [],
            "source": [
                "datos[\"review\"] = datos[\"review\"].str.strip().str.lower()"
            ]
        },
        {
            "cell_type": "code",
            "execution_count": 7,
            "metadata": {},
            "outputs": [],
            "source": [
                "# Separar variables predictoras (X) y variable objetivo (y)\n",
                "X = datos[\"review\"]  # Texto de las reseñas\n",
                "y = datos[\"polarity\"]  # Sentimiento (0: negativo, 1: positivo)\n"
            ]
        },
        {
            "cell_type": "code",
            "execution_count": 8,
            "metadata": {},
            "outputs": [
                {
                    "name": "stdout",
                    "output_type": "stream",
                    "text": [
                        "Train: (712,), Test: (179,)\n"
                    ]
                }
            ],
            "source": [
                "from sklearn.model_selection import train_test_split\n",
                "\n",
                "# Dividir en 80% entrenamiento y 20% prueba (ajusta test_size si lo prefieres)\n",
                "X_train, X_test, y_train, y_test = train_test_split(X, y, test_size=0.2, random_state=42)\n",
                "\n",
                "# Verificar tamaños\n",
                "print(f\"Train: {X_train.shape}, Test: {X_test.shape}\")"
            ]
        },
        {
            "cell_type": "code",
            "execution_count": 9,
            "metadata": {},
            "outputs": [],
            "source": [
                "from sklearn.feature_extraction.text import CountVectorizer\n",
                "\n",
                "# Vectorizar texto (convertir palabras a números)\n",
                "vec_model = CountVectorizer(stop_words=\"english\")\n",
                "X_train_vec = vec_model.fit_transform(X_train).toarray()  # Entrenar y transformar train\n",
                "X_test_vec = vec_model.transform(X_test).toarray()       # Solo transformar test"
            ]
        },
        {
            "cell_type": "markdown",
            "metadata": {},
            "source": [
                "BAG OF WORDS "
            ]
        },
        {
            "cell_type": "code",
            "execution_count": 18,
            "metadata": {},
            "outputs": [
                {
                    "name": "stdout",
                    "output_type": "stream",
                    "text": [
                        "\n",
                        "Forma de la matriz Bag of Words (Train): (712, 3310)\n",
                        "Ejemplo de vector BoW: [[0 0 0 ... 0 0 0]]\n"
                    ]
                }
            ],
            "source": [
                "# bag of words \n",
                "\n",
                "from sklearn.feature_extraction.text import CountVectorizer\n",
                "\n",
                "# Crear vectorizador (considerando las 5000 palabras más frecuentes)\n",
                "vectorizer = CountVectorizer(stop_words='english', max_features=5000)\n",
                "\n",
                "# Aplicar solo a datos de entrenamiento (evitar data leakage)\n",
                "X_train_bow = vectorizer.fit_transform(X_train)\n",
                "X_test_bow = vectorizer.transform(X_test)  # Usar el mismo vocabulario\n",
                "\n",
                "print(\"\\nForma de la matriz Bag of Words (Train):\", X_train_bow.shape)\n",
                "print(\"Ejemplo de vector BoW:\", X_train_bow[0].toarray())"
            ]
        },
        {
            "cell_type": "markdown",
            "metadata": {},
            "source": [
                "OPCION 1 PARA MODELOS MULTNOMIAL, BERNOULLI Y GAUSSIAN"
            ]
        },
        {
            "cell_type": "code",
            "execution_count": 10,
            "metadata": {},
            "outputs": [
                {
                    "name": "stdout",
                    "output_type": "stream",
                    "text": [
                        "MultinomialNB - Accuracy: 0.8156\n",
                        "BernoulliNB - Accuracy: 0.7709\n",
                        "GaussianNB - Accuracy: 0.8045\n"
                    ]
                }
            ],
            "source": [
                "#opcion 1 para los modelos multinomialNB, Bernoulli y Gaussian\n",
                "\n",
                "from sklearn.naive_bayes import MultinomialNB, BernoulliNB, GaussianNB\n",
                "from sklearn.metrics import accuracy_score\n",
                "\n",
                "# Modelos a comparar\n",
                "models = {\n",
                "    \"MultinomialNB\": MultinomialNB(),\n",
                "    \"BernoulliNB\": BernoulliNB(),\n",
                "    \"GaussianNB\": GaussianNB()\n",
                "}\n",
                "\n",
                "# Entrenar y evaluar\n",
                "for name, model in models.items():\n",
                "    model.fit(X_train_vec, y_train)\n",
                "    y_pred = model.predict(X_test_vec)\n",
                "    print(f\"{name} - Accuracy: {accuracy_score(y_test, y_pred):.4f}\")"
            ]
        },
        {
            "cell_type": "markdown",
            "metadata": {},
            "source": [
                "OPCION 2 PARA EJECTUAR LOS MODELOS MULTINOMIAL, BERNOULLI Y GAUSSIAN"
            ]
        },
        {
            "cell_type": "code",
            "execution_count": 32,
            "metadata": {},
            "outputs": [
                {
                    "name": "stdout",
                    "output_type": "stream",
                    "text": [
                        "GaussianNB Accuracy: 0.8045\n",
                        "              precision    recall  f1-score   support\n",
                        "\n",
                        "           0       0.85      0.88      0.86       126\n",
                        "           1       0.69      0.62      0.65        53\n",
                        "\n",
                        "    accuracy                           0.80       179\n",
                        "   macro avg       0.77      0.75      0.76       179\n",
                        "weighted avg       0.80      0.80      0.80       179\n",
                        "\n",
                        "MultinomialNB Accuracy: 0.8156\n",
                        "              precision    recall  f1-score   support\n",
                        "\n",
                        "           0       0.84      0.90      0.87       126\n",
                        "           1       0.73      0.60      0.66        53\n",
                        "\n",
                        "    accuracy                           0.82       179\n",
                        "   macro avg       0.79      0.75      0.77       179\n",
                        "weighted avg       0.81      0.82      0.81       179\n",
                        "\n",
                        "BernoulliNB Accuracy: 0.7709\n",
                        "              precision    recall  f1-score   support\n",
                        "\n",
                        "           0       0.79      0.93      0.85       126\n",
                        "           1       0.70      0.40      0.51        53\n",
                        "\n",
                        "    accuracy                           0.77       179\n",
                        "   macro avg       0.74      0.66      0.68       179\n",
                        "weighted avg       0.76      0.77      0.75       179\n",
                        "\n"
                    ]
                }
            ],
            "source": [
                "#opcion 2 para los modelos multinomialNB, Bernoulli y Gaussian\n",
                "\n",
                "from sklearn.feature_extraction.text import CountVectorizer\n",
                "from sklearn.naive_bayes import GaussianNB, MultinomialNB, BernoulliNB\n",
                "from sklearn.metrics import accuracy_score, classification_report\n",
                "\n",
                "# Vectorizar el texto\n",
                "vectorizer = CountVectorizer(stop_words=\"english\")\n",
                "X_train_vec = vectorizer.fit_transform(X_train).toarray()\n",
                "X_test_vec = vectorizer.transform(X_test).toarray()\n",
                "\n",
                "# --- GaussianNB ---\n",
                "gnb_model = GaussianNB()\n",
                "gnb_model.fit(X_train_vec, y_train)\n",
                "y_pred_test_gnb = gnb_model.predict(X_test_vec)\n",
                "print(f\"GaussianNB Accuracy: {accuracy_score(y_test, y_pred_test_gnb):.4f}\")\n",
                "print(classification_report(y_test, y_pred_test_gnb))\n",
                "\n",
                "# --- MultinomialNB --- (MEJOR OPCIÓN PARA TEXTO)\n",
                "mnb_model = MultinomialNB()\n",
                "mnb_model.fit(X_train_vec, y_train)\n",
                "y_pred_test_mnb = mnb_model.predict(X_test_vec)\n",
                "print(f\"MultinomialNB Accuracy: {accuracy_score(y_test, y_pred_test_mnb):.4f}\")\n",
                "print(classification_report(y_test, y_pred_test_mnb))\n",
                "\n",
                "# --- BernoulliNB ---\n",
                "bnb_model = BernoulliNB()\n",
                "bnb_model.fit(X_train_vec, y_train)\n",
                "y_pred_test_bnb = bnb_model.predict(X_test_vec)\n",
                "print(f\"BernoulliNB Accuracy: {accuracy_score(y_test, y_pred_test_bnb):.4f}\")\n",
                "print(classification_report(y_test, y_pred_test_bnb))"
            ]
        },
        {
            "cell_type": "markdown",
            "metadata": {},
            "source": [
                "NAIVES BAYES VS RANDOM FOREST "
            ]
        },
        {
            "cell_type": "code",
            "execution_count": 12,
            "metadata": {},
            "outputs": [
                {
                    "name": "stdout",
                    "output_type": "stream",
                    "text": [
                        "Naive Bayes: 0.8156 vs Random Forest: 0.7989\n"
                    ]
                }
            ],
            "source": [
                "#modelo optimizado con el random forest \n",
                "\n",
                "from sklearn.ensemble import RandomForestClassifier\n",
                "\n",
                "# Mejor modelo previo (ej: MultinomialNB)\n",
                "best_nb = MultinomialNB().fit(X_train_vec, y_train)\n",
                "nb_accuracy = accuracy_score(y_test, best_nb.predict(X_test_vec))\n",
                "\n",
                "# Random Forest\n",
                "rf = RandomForestClassifier(n_estimators=100, random_state=42)\n",
                "rf.fit(X_train_vec, y_train)\n",
                "rf_accuracy = accuracy_score(y_test, rf.predict(X_test_vec))\n",
                "\n",
                "print(f\"Naive Bayes: {nb_accuracy:.4f} vs Random Forest: {rf_accuracy:.4f}\")"
            ]
        },
        {
            "cell_type": "markdown",
            "metadata": {},
            "source": [
                "ANALISIS DE PALABRAS CLAVES "
            ]
        },
        {
            "cell_type": "code",
            "execution_count": 20,
            "metadata": {},
            "outputs": [
                {
                    "name": "stdout",
                    "output_type": "stream",
                    "text": [
                        "\n",
                        "Top 10 palabras para reseñas POSITIVAS:\n",
                        "       word  weight_negative  weight_positive\n",
                        "199     app        -4.091372        -4.111246\n",
                        "1201   game        -5.420001        -4.516711\n",
                        "3294     ŕľ        -6.590072        -4.663315\n",
                        "1261  great        -5.925096        -4.689983\n",
                        "1244   good        -5.455092        -4.916511\n",
                        "1645   like        -5.217764        -5.082025\n",
                        "1715   love        -6.915494        -5.165407\n",
                        "333    best        -7.283219        -5.356462\n",
                        "3094    use        -5.246337        -5.383130\n",
                        "3307     žŕ        -7.082549        -5.467688\n",
                        "\n",
                        "Top 10 palabras para reseñas NEGATIVAS:\n",
                        "        word  weight_negative  weight_positive\n",
                        "199      app        -4.091372        -4.111246\n",
                        "3070  update        -4.652130        -5.815994\n",
                        "1113     fix        -4.789096        -6.691463\n",
                        "2937    time        -5.061603        -5.858554\n",
                        "1913     new        -5.061603        -5.661844\n",
                        "1550    just        -5.217764        -5.497541\n",
                        "1645    like        -5.217764        -5.082025\n",
                        "874      don        -5.246337        -5.949526\n",
                        "3094     use        -5.246337        -5.383130\n",
                        "869    doesn        -5.260936        -7.607754\n"
                    ]
                }
            ],
            "source": [
                "from sklearn.naive_bayes import MultinomialNB  # <-- Cambiar a MultinomialNB\n",
                "\n",
                "# 1. Crear y entrenar el modelo correcto\n",
                "model = MultinomialNB()  # Usar MultinomialNB en lugar de GaussianNB\n",
                "model.fit(X_train_bow, y_train)\n",
                "\n",
                "# 2. Análisis de palabras clave (ahora funcionará)\n",
                "import pandas as pd\n",
                "\n",
                "log_probs = model.feature_log_prob_  # <-- Ahora sí existe este atributo\n",
                "feature_names = vectorizer.get_feature_names_out()\n",
                "\n",
                "word_importance = pd.DataFrame({\n",
                "    'word': feature_names,\n",
                "    'weight_negative': log_probs[0],  # Clase 0 (negativo)\n",
                "    'weight_positive': log_probs[1]   # Clase 1 (positivo)\n",
                "})\n",
                "\n",
                "print(\"\\nTop 10 palabras para reseñas POSITIVAS:\")\n",
                "print(word_importance.sort_values('weight_positive', ascending=False).head(10))\n",
                "\n",
                "print(\"\\nTop 10 palabras para reseñas NEGATIVAS:\")\n",
                "print(word_importance.sort_values('weight_negative', ascending=False).head(10))"
            ]
        },
        {
            "cell_type": "markdown",
            "metadata": {},
            "source": [
                "VECTORIZACION TF-IDF "
            ]
        },
        {
            "cell_type": "code",
            "execution_count": 21,
            "metadata": {},
            "outputs": [
                {
                    "name": "stdout",
                    "output_type": "stream",
                    "text": [
                        "\n",
                        "Precisión con TF-IDF: 0.7988826815642458\n"
                    ]
                }
            ],
            "source": [
                "#Vectorización TF-IDF\n",
                "\n",
                "from sklearn.feature_extraction.text import TfidfVectorizer\n",
                "\n",
                "# Crear vectorizador TF-IDF\n",
                "tfidf = TfidfVectorizer(stop_words='english', max_features=5000)\n",
                "\n",
                "# Aplicar a los datos\n",
                "X_train_tfidf = tfidf.fit_transform(X_train)\n",
                "X_test_tfidf = tfidf.transform(X_test)\n",
                "\n",
                "# Entrenar modelo con TF-IDF\n",
                "model_tfidf = MultinomialNB()\n",
                "model_tfidf.fit(X_train_tfidf, y_train)\n",
                "\n",
                "# Evaluar precisión\n",
                "y_test_pred_tfidf = model_tfidf.predict(X_test_tfidf)\n",
                "print(\"\\nPrecisión con TF-IDF:\", accuracy_score(y_test, y_test_pred_tfidf))"
            ]
        },
        {
            "cell_type": "markdown",
            "metadata": {},
            "source": [
                "GUARDAR MODELOS EN CARPETA PROCESSED "
            ]
        },
        {
            "cell_type": "code",
            "execution_count": 22,
            "metadata": {},
            "outputs": [
                {
                    "name": "stdout",
                    "output_type": "stream",
                    "text": [
                        "Modelo guardado en: data/processed/naive_bayes_model.pkl\n",
                        "Vectorizador guardado en: data/processed/text_vectorizer.pkl\n"
                    ]
                }
            ],
            "source": [
                "import joblib\n",
                "import os\n",
                "from sklearn.naive_bayes import MultinomialNB\n",
                "from sklearn.feature_extraction.text import CountVectorizer\n",
                "\n",
                "# 1. Asegurar que la carpeta 'processed' exista\n",
                "os.makedirs(\"data/processed\", exist_ok=True)\n",
                "\n",
                "# 2. Entrenar el modelo (si no lo has hecho antes)\n",
                "# Asumiendo que:\n",
                "# - X_train_vec es tu texto ya vectorizado (con CountVectorizer/TfidfVectorizer)\n",
                "# - y_train son tus etiquetas\n",
                "best_model = MultinomialNB()\n",
                "best_model.fit(X_train_vec, y_train)\n",
                "\n",
                "# 3. Guardar el modelo\n",
                "joblib.dump(best_model, \"data/processed/naive_bayes_model.pkl\")\n",
                "\n",
                "# 4. Guardar el vectorizador (asegúrate de que vec_model está definido)\n",
                "# Ejemplo si usas CountVectorizer:\n",
                "vec_model = CountVectorizer(stop_words='english')\n",
                "vec_model.fit(X_train)  # X_train es el texto sin vectorizar\n",
                "joblib.dump(vec_model, \"data/processed/text_vectorizer.pkl\")\n",
                "\n",
                "print(\"Modelo guardado en: data/processed/naive_bayes_model.pkl\")\n",
                "print(\"Vectorizador guardado en: data/processed/text_vectorizer.pkl\")"
            ]
        },
        {
            "cell_type": "code",
            "execution_count": 30,
            "metadata": {},
            "outputs": [
                {
                    "data": {
                        "text/plain": [
                            "['data/processed/naive_bayes_model_v1.pkl']"
                        ]
                    },
                    "execution_count": 30,
                    "metadata": {},
                    "output_type": "execute_result"
                }
            ],
            "source": [
                "# Para cargarlos luego:\n",
                "model_loaded = joblib.load(\"data/processed/naive_bayes_model.pkl\")\n",
                "vectorizer_loaded = joblib.load(\"data/processed/text_vectorizer.pkl\")\n",
                "\n",
                "# Ejemplo de uso:\n",
                "new_text = [\"This app is great\"]\n",
                "new_text_vec = vectorizer_loaded.transform(new_text)\n",
                "prediction = model_loaded.predict(new_text_vec)\n",
                "\n",
                "joblib.dump(best_model, \"data/processed/naive_bayes_model_v1.pkl\")"
            ]
        },
        {
            "cell_type": "markdown",
            "metadata": {},
            "source": [
                "COMPARATIVA CON MODELOS RANDOM FOREST Y REGRESION LOGISTICA "
            ]
        },
        {
            "cell_type": "code",
            "execution_count": null,
            "metadata": {},
            "outputs": [
                {
                    "name": "stdout",
                    "output_type": "stream",
                    "text": [
                        "Random Forest Accuracy: 0.7989\n"
                    ]
                }
            ],
            "source": [
                "\n",
                "# modelo de random forest\n",
                "\n",
                "from sklearn.ensemble import RandomForestClassifier\n",
                "\n",
                "# Entrenar Random Forest\n",
                "rf_model = RandomForestClassifier(n_estimators=100, random_state=42)\n",
                "rf_model.fit(X_train_vec, y_train)\n",
                "rf_accuracy = accuracy_score(y_test, rf_model.predict(X_test_vec))\n",
                "\n",
                "print(f\"Random Forest Accuracy: {rf_accuracy:.4f}\")"
            ]
        },
        {
            "cell_type": "code",
            "execution_count": 24,
            "metadata": {},
            "outputs": [
                {
                    "name": "stdout",
                    "output_type": "stream",
                    "text": [
                        "Regresión Logística Accuracy: 0.8324\n"
                    ]
                }
            ],
            "source": [
                "# modelo de regresión logistica\n",
                "\n",
                "from sklearn.linear_model import LogisticRegression\n",
                "\n",
                "lr_model = LogisticRegression(max_iter=1000)\n",
                "lr_model.fit(X_train_vec, y_train)\n",
                "lr_accuracy = accuracy_score(y_test, lr_model.predict(X_test_vec))\n",
                "\n",
                "print(f\"Regresión Logística Accuracy: {lr_accuracy:.4f}\")"
            ]
        },
        {
            "cell_type": "code",
            "execution_count": 31,
            "metadata": {},
            "outputs": [
                {
                    "name": "stdout",
                    "output_type": "stream",
                    "text": [
                        "Naive Bayes: 0.8156\n",
                        "Random Forest: 0.7989\n",
                        "Regresión Logística: 0.8324\n"
                    ]
                }
            ],
            "source": [
                "#comparativa entre modelos naive bayes, random forest y regresion logistica\n",
                "\n",
                "print(f\"Naive Bayes: {accuracy_score(y_test, best_model.predict(X_test_vec)):.4f}\")\n",
                "print(f\"Random Forest: {rf_accuracy:.4f}\")\n",
                "print(f\"Regresión Logística: {lr_accuracy:.4f}\")"
            ]
        }
    ],
    "metadata": {
        "kernelspec": {
            "display_name": "Python 3",
            "language": "python",
            "name": "python3"
        },
        "language_info": {
            "codemirror_mode": {
                "name": "ipython",
                "version": 3
            },
            "file_extension": ".py",
            "mimetype": "text/x-python",
            "name": "python",
            "nbconvert_exporter": "python",
            "pygments_lexer": "ipython3",
            "version": "3.11.4"
        },
        "orig_nbformat": 4
    },
    "nbformat": 4,
    "nbformat_minor": 2
}
