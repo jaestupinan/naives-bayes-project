{
    "cells": [
        {
            "cell_type": "markdown",
            "metadata": {},
            "source": [
                "# Explore here"
            ]
        },
        {
            "cell_type": "code",
            "execution_count": 5,
            "metadata": {},
            "outputs": [],
            "source": [
                "import pandas as pd \n",
                "import matplotlib.pyplot as plt \n",
                "import seaborn as sns\n",
                "import numpy as np "
            ]
        },
        {
            "cell_type": "code",
            "execution_count": 6,
            "metadata": {},
            "outputs": [
                {
                    "data": {
                        "text/html": [
                            "<div>\n",
                            "<style scoped>\n",
                            "    .dataframe tbody tr th:only-of-type {\n",
                            "        vertical-align: middle;\n",
                            "    }\n",
                            "\n",
                            "    .dataframe tbody tr th {\n",
                            "        vertical-align: top;\n",
                            "    }\n",
                            "\n",
                            "    .dataframe thead th {\n",
                            "        text-align: right;\n",
                            "    }\n",
                            "</style>\n",
                            "<table border=\"1\" class=\"dataframe\">\n",
                            "  <thead>\n",
                            "    <tr style=\"text-align: right;\">\n",
                            "      <th></th>\n",
                            "      <th>package_name</th>\n",
                            "      <th>review</th>\n",
                            "      <th>polarity</th>\n",
                            "    </tr>\n",
                            "  </thead>\n",
                            "  <tbody>\n",
                            "    <tr>\n",
                            "      <th>0</th>\n",
                            "      <td>com.facebook.katana</td>\n",
                            "      <td>privacy at least put some option appear offli...</td>\n",
                            "      <td>0</td>\n",
                            "    </tr>\n",
                            "    <tr>\n",
                            "      <th>1</th>\n",
                            "      <td>com.facebook.katana</td>\n",
                            "      <td>messenger issues ever since the last update, ...</td>\n",
                            "      <td>0</td>\n",
                            "    </tr>\n",
                            "    <tr>\n",
                            "      <th>2</th>\n",
                            "      <td>com.facebook.katana</td>\n",
                            "      <td>profile any time my wife or anybody has more ...</td>\n",
                            "      <td>0</td>\n",
                            "    </tr>\n",
                            "    <tr>\n",
                            "      <th>3</th>\n",
                            "      <td>com.facebook.katana</td>\n",
                            "      <td>the new features suck for those of us who don...</td>\n",
                            "      <td>0</td>\n",
                            "    </tr>\n",
                            "    <tr>\n",
                            "      <th>4</th>\n",
                            "      <td>com.facebook.katana</td>\n",
                            "      <td>forced reload on uploading pic on replying co...</td>\n",
                            "      <td>0</td>\n",
                            "    </tr>\n",
                            "  </tbody>\n",
                            "</table>\n",
                            "</div>"
                        ],
                        "text/plain": [
                            "          package_name                                             review  \\\n",
                            "0  com.facebook.katana   privacy at least put some option appear offli...   \n",
                            "1  com.facebook.katana   messenger issues ever since the last update, ...   \n",
                            "2  com.facebook.katana   profile any time my wife or anybody has more ...   \n",
                            "3  com.facebook.katana   the new features suck for those of us who don...   \n",
                            "4  com.facebook.katana   forced reload on uploading pic on replying co...   \n",
                            "\n",
                            "   polarity  \n",
                            "0         0  \n",
                            "1         0  \n",
                            "2         0  \n",
                            "3         0  \n",
                            "4         0  "
                        ]
                    },
                    "execution_count": 6,
                    "metadata": {},
                    "output_type": "execute_result"
                }
            ],
            "source": [
                "url = \"https://raw.githubusercontent.com/4GeeksAcademy/naive-bayes-project-tutorial/main/playstore_reviews.csv\"\n",
                "datos = pd.read_csv(url)\n",
                "datos.head()"
            ]
        },
        {
            "cell_type": "code",
            "execution_count": 4,
            "metadata": {},
            "outputs": [
                {
                    "data": {
                        "text/plain": [
                            "(891, 3)"
                        ]
                    },
                    "execution_count": 4,
                    "metadata": {},
                    "output_type": "execute_result"
                }
            ],
            "source": [
                "datos.shape "
            ]
        },
        {
            "cell_type": "code",
            "execution_count": 7,
            "metadata": {},
            "outputs": [
                {
                    "name": "stdout",
                    "output_type": "stream",
                    "text": [
                        "(891, 2)\n"
                    ]
                },
                {
                    "data": {
                        "text/html": [
                            "<div>\n",
                            "<style scoped>\n",
                            "    .dataframe tbody tr th:only-of-type {\n",
                            "        vertical-align: middle;\n",
                            "    }\n",
                            "\n",
                            "    .dataframe tbody tr th {\n",
                            "        vertical-align: top;\n",
                            "    }\n",
                            "\n",
                            "    .dataframe thead th {\n",
                            "        text-align: right;\n",
                            "    }\n",
                            "</style>\n",
                            "<table border=\"1\" class=\"dataframe\">\n",
                            "  <thead>\n",
                            "    <tr style=\"text-align: right;\">\n",
                            "      <th></th>\n",
                            "      <th>review</th>\n",
                            "      <th>polarity</th>\n",
                            "    </tr>\n",
                            "  </thead>\n",
                            "  <tbody>\n",
                            "    <tr>\n",
                            "      <th>0</th>\n",
                            "      <td>privacy at least put some option appear offli...</td>\n",
                            "      <td>0</td>\n",
                            "    </tr>\n",
                            "    <tr>\n",
                            "      <th>1</th>\n",
                            "      <td>messenger issues ever since the last update, ...</td>\n",
                            "      <td>0</td>\n",
                            "    </tr>\n",
                            "    <tr>\n",
                            "      <th>2</th>\n",
                            "      <td>profile any time my wife or anybody has more ...</td>\n",
                            "      <td>0</td>\n",
                            "    </tr>\n",
                            "    <tr>\n",
                            "      <th>3</th>\n",
                            "      <td>the new features suck for those of us who don...</td>\n",
                            "      <td>0</td>\n",
                            "    </tr>\n",
                            "    <tr>\n",
                            "      <th>4</th>\n",
                            "      <td>forced reload on uploading pic on replying co...</td>\n",
                            "      <td>0</td>\n",
                            "    </tr>\n",
                            "  </tbody>\n",
                            "</table>\n",
                            "</div>"
                        ],
                        "text/plain": [
                            "                                              review  polarity\n",
                            "0   privacy at least put some option appear offli...         0\n",
                            "1   messenger issues ever since the last update, ...         0\n",
                            "2   profile any time my wife or anybody has more ...         0\n",
                            "3   the new features suck for those of us who don...         0\n",
                            "4   forced reload on uploading pic on replying co...         0"
                        ]
                    },
                    "execution_count": 7,
                    "metadata": {},
                    "output_type": "execute_result"
                }
            ],
            "source": [
                "datos = datos.drop(columns=[\"package_name\"]) \n",
                "print(datos.shape)\n",
                "datos.head()"
            ]
        },
        {
            "cell_type": "code",
            "execution_count": 8,
            "metadata": {},
            "outputs": [],
            "source": [
                "datos[\"review\"] = datos[\"review\"].str.strip().str.lower()"
            ]
        },
        {
            "cell_type": "code",
            "execution_count": 9,
            "metadata": {},
            "outputs": [],
            "source": [
                "# Separar variables predictoras (X) y variable objetivo (y)\n",
                "X = datos[\"review\"]  # Texto de las reseñas\n",
                "y = datos[\"polarity\"]  # Sentimiento (0: negativo, 1: positivo)\n"
            ]
        },
        {
            "cell_type": "code",
            "execution_count": 10,
            "metadata": {},
            "outputs": [
                {
                    "name": "stdout",
                    "output_type": "stream",
                    "text": [
                        "Train: (712,), Test: (179,)\n"
                    ]
                }
            ],
            "source": [
                "from sklearn.model_selection import train_test_split\n",
                "\n",
                "# Dividir en 80% entrenamiento y 20% prueba (ajusta test_size si lo prefieres)\n",
                "X_train, X_test, y_train, y_test = train_test_split(X, y, test_size=0.2, random_state=42)\n",
                "\n",
                "# Verificar tamaños\n",
                "print(f\"Train: {X_train.shape}, Test: {X_test.shape}\")"
            ]
        },
        {
            "cell_type": "code",
            "execution_count": 11,
            "metadata": {},
            "outputs": [],
            "source": [
                "from sklearn.feature_extraction.text import CountVectorizer\n",
                "\n",
                "# Vectorizar texto (convertir palabras a números)\n",
                "vec_model = CountVectorizer(stop_words=\"english\")\n",
                "X_train_vec = vec_model.fit_transform(X_train).toarray()  # Entrenar y transformar train\n",
                "X_test_vec = vec_model.transform(X_test).toarray()       # Solo transformar test"
            ]
        },
        {
            "cell_type": "markdown",
            "metadata": {},
            "source": [
                "OPCION 1 PARA MODELOS MULTNOMIAL, BERNOULLI Y GAUSSIAN"
            ]
        },
        {
            "cell_type": "code",
            "execution_count": 29,
            "metadata": {},
            "outputs": [
                {
                    "name": "stdout",
                    "output_type": "stream",
                    "text": [
                        "MultinomialNB - Accuracy: 0.8156\n",
                        "BernoulliNB - Accuracy: 0.7709\n",
                        "GaussianNB - Accuracy: 0.8045\n"
                    ]
                }
            ],
            "source": [
                "#opcion 1 para los modelos multinomialNB, Bernoulli y Gaussian\n",
                "\n",
                "from sklearn.naive_bayes import MultinomialNB, BernoulliNB, GaussianNB\n",
                "from sklearn.metrics import accuracy_score\n",
                "\n",
                "# Modelos a comparar\n",
                "models = {\n",
                "    \"MultinomialNB\": MultinomialNB(),\n",
                "    \"BernoulliNB\": BernoulliNB(),\n",
                "    \"GaussianNB\": GaussianNB()\n",
                "}\n",
                "\n",
                "# Entrenar y evaluar\n",
                "for name, model in models.items():\n",
                "    model.fit(X_train_vec, y_train)\n",
                "    y_pred = model.predict(X_test_vec)\n",
                "    print(f\"{name} - Accuracy: {accuracy_score(y_test, y_pred):.4f}\")"
            ]
        },
        {
            "cell_type": "markdown",
            "metadata": {},
            "source": [
                "OPCION 2 PARA EJECTUAR LOS MODELOS MULTINOMIAL, BERNOULLI Y GAUSSIAN"
            ]
        },
        {
            "cell_type": "code",
            "execution_count": 30,
            "metadata": {},
            "outputs": [
                {
                    "name": "stdout",
                    "output_type": "stream",
                    "text": [
                        "GaussianNB Accuracy: 0.8045\n",
                        "              precision    recall  f1-score   support\n",
                        "\n",
                        "           0       0.85      0.88      0.86       126\n",
                        "           1       0.69      0.62      0.65        53\n",
                        "\n",
                        "    accuracy                           0.80       179\n",
                        "   macro avg       0.77      0.75      0.76       179\n",
                        "weighted avg       0.80      0.80      0.80       179\n",
                        "\n",
                        "MultinomialNB Accuracy: 0.8156\n",
                        "              precision    recall  f1-score   support\n",
                        "\n",
                        "           0       0.84      0.90      0.87       126\n",
                        "           1       0.73      0.60      0.66        53\n",
                        "\n",
                        "    accuracy                           0.82       179\n",
                        "   macro avg       0.79      0.75      0.77       179\n",
                        "weighted avg       0.81      0.82      0.81       179\n",
                        "\n",
                        "BernoulliNB Accuracy: 0.7709\n",
                        "              precision    recall  f1-score   support\n",
                        "\n",
                        "           0       0.79      0.93      0.85       126\n",
                        "           1       0.70      0.40      0.51        53\n",
                        "\n",
                        "    accuracy                           0.77       179\n",
                        "   macro avg       0.74      0.66      0.68       179\n",
                        "weighted avg       0.76      0.77      0.75       179\n",
                        "\n"
                    ]
                }
            ],
            "source": [
                "#opcion 2 para los modelos multinomialNB, Bernoulli y Gaussian\n",
                "\n",
                "from sklearn.feature_extraction.text import CountVectorizer\n",
                "from sklearn.naive_bayes import GaussianNB, MultinomialNB, BernoulliNB\n",
                "from sklearn.metrics import accuracy_score, classification_report\n",
                "\n",
                "# Vectorizar el texto\n",
                "vectorizer = CountVectorizer(stop_words=\"english\")\n",
                "X_train_vec = vectorizer.fit_transform(X_train).toarray()\n",
                "X_test_vec = vectorizer.transform(X_test).toarray()\n",
                "\n",
                "# --- GaussianNB ---\n",
                "gnb_model = GaussianNB()\n",
                "gnb_model.fit(X_train_vec, y_train)\n",
                "y_pred_test_gnb = gnb_model.predict(X_test_vec)\n",
                "print(f\"GaussianNB Accuracy: {accuracy_score(y_test, y_pred_test_gnb):.4f}\")\n",
                "print(classification_report(y_test, y_pred_test_gnb))\n",
                "\n",
                "# --- MultinomialNB --- (MEJOR OPCIÓN PARA TEXTO)\n",
                "mnb_model = MultinomialNB()\n",
                "mnb_model.fit(X_train_vec, y_train)\n",
                "y_pred_test_mnb = mnb_model.predict(X_test_vec)\n",
                "print(f\"MultinomialNB Accuracy: {accuracy_score(y_test, y_pred_test_mnb):.4f}\")\n",
                "print(classification_report(y_test, y_pred_test_mnb))\n",
                "\n",
                "# --- BernoulliNB ---\n",
                "bnb_model = BernoulliNB()\n",
                "bnb_model.fit(X_train_vec, y_train)\n",
                "y_pred_test_bnb = bnb_model.predict(X_test_vec)\n",
                "print(f\"BernoulliNB Accuracy: {accuracy_score(y_test, y_pred_test_bnb):.4f}\")\n",
                "print(classification_report(y_test, y_pred_test_bnb))"
            ]
        },
        {
            "cell_type": "markdown",
            "metadata": {},
            "source": [
                "MODELO OPTIMIZADO "
            ]
        },
        {
            "cell_type": "code",
            "execution_count": 31,
            "metadata": {},
            "outputs": [
                {
                    "data": {
                        "text/html": [
                            "<style>#sk-container-id-2 {\n",
                            "  /* Definition of color scheme common for light and dark mode */\n",
                            "  --sklearn-color-text: #000;\n",
                            "  --sklearn-color-text-muted: #666;\n",
                            "  --sklearn-color-line: gray;\n",
                            "  /* Definition of color scheme for unfitted estimators */\n",
                            "  --sklearn-color-unfitted-level-0: #fff5e6;\n",
                            "  --sklearn-color-unfitted-level-1: #f6e4d2;\n",
                            "  --sklearn-color-unfitted-level-2: #ffe0b3;\n",
                            "  --sklearn-color-unfitted-level-3: chocolate;\n",
                            "  /* Definition of color scheme for fitted estimators */\n",
                            "  --sklearn-color-fitted-level-0: #f0f8ff;\n",
                            "  --sklearn-color-fitted-level-1: #d4ebff;\n",
                            "  --sklearn-color-fitted-level-2: #b3dbfd;\n",
                            "  --sklearn-color-fitted-level-3: cornflowerblue;\n",
                            "\n",
                            "  /* Specific color for light theme */\n",
                            "  --sklearn-color-text-on-default-background: var(--sg-text-color, var(--theme-code-foreground, var(--jp-content-font-color1, black)));\n",
                            "  --sklearn-color-background: var(--sg-background-color, var(--theme-background, var(--jp-layout-color0, white)));\n",
                            "  --sklearn-color-border-box: var(--sg-text-color, var(--theme-code-foreground, var(--jp-content-font-color1, black)));\n",
                            "  --sklearn-color-icon: #696969;\n",
                            "\n",
                            "  @media (prefers-color-scheme: dark) {\n",
                            "    /* Redefinition of color scheme for dark theme */\n",
                            "    --sklearn-color-text-on-default-background: var(--sg-text-color, var(--theme-code-foreground, var(--jp-content-font-color1, white)));\n",
                            "    --sklearn-color-background: var(--sg-background-color, var(--theme-background, var(--jp-layout-color0, #111)));\n",
                            "    --sklearn-color-border-box: var(--sg-text-color, var(--theme-code-foreground, var(--jp-content-font-color1, white)));\n",
                            "    --sklearn-color-icon: #878787;\n",
                            "  }\n",
                            "}\n",
                            "\n",
                            "#sk-container-id-2 {\n",
                            "  color: var(--sklearn-color-text);\n",
                            "}\n",
                            "\n",
                            "#sk-container-id-2 pre {\n",
                            "  padding: 0;\n",
                            "}\n",
                            "\n",
                            "#sk-container-id-2 input.sk-hidden--visually {\n",
                            "  border: 0;\n",
                            "  clip: rect(1px 1px 1px 1px);\n",
                            "  clip: rect(1px, 1px, 1px, 1px);\n",
                            "  height: 1px;\n",
                            "  margin: -1px;\n",
                            "  overflow: hidden;\n",
                            "  padding: 0;\n",
                            "  position: absolute;\n",
                            "  width: 1px;\n",
                            "}\n",
                            "\n",
                            "#sk-container-id-2 div.sk-dashed-wrapped {\n",
                            "  border: 1px dashed var(--sklearn-color-line);\n",
                            "  margin: 0 0.4em 0.5em 0.4em;\n",
                            "  box-sizing: border-box;\n",
                            "  padding-bottom: 0.4em;\n",
                            "  background-color: var(--sklearn-color-background);\n",
                            "}\n",
                            "\n",
                            "#sk-container-id-2 div.sk-container {\n",
                            "  /* jupyter's `normalize.less` sets `[hidden] { display: none; }`\n",
                            "     but bootstrap.min.css set `[hidden] { display: none !important; }`\n",
                            "     so we also need the `!important` here to be able to override the\n",
                            "     default hidden behavior on the sphinx rendered scikit-learn.org.\n",
                            "     See: https://github.com/scikit-learn/scikit-learn/issues/21755 */\n",
                            "  display: inline-block !important;\n",
                            "  position: relative;\n",
                            "}\n",
                            "\n",
                            "#sk-container-id-2 div.sk-text-repr-fallback {\n",
                            "  display: none;\n",
                            "}\n",
                            "\n",
                            "div.sk-parallel-item,\n",
                            "div.sk-serial,\n",
                            "div.sk-item {\n",
                            "  /* draw centered vertical line to link estimators */\n",
                            "  background-image: linear-gradient(var(--sklearn-color-text-on-default-background), var(--sklearn-color-text-on-default-background));\n",
                            "  background-size: 2px 100%;\n",
                            "  background-repeat: no-repeat;\n",
                            "  background-position: center center;\n",
                            "}\n",
                            "\n",
                            "/* Parallel-specific style estimator block */\n",
                            "\n",
                            "#sk-container-id-2 div.sk-parallel-item::after {\n",
                            "  content: \"\";\n",
                            "  width: 100%;\n",
                            "  border-bottom: 2px solid var(--sklearn-color-text-on-default-background);\n",
                            "  flex-grow: 1;\n",
                            "}\n",
                            "\n",
                            "#sk-container-id-2 div.sk-parallel {\n",
                            "  display: flex;\n",
                            "  align-items: stretch;\n",
                            "  justify-content: center;\n",
                            "  background-color: var(--sklearn-color-background);\n",
                            "  position: relative;\n",
                            "}\n",
                            "\n",
                            "#sk-container-id-2 div.sk-parallel-item {\n",
                            "  display: flex;\n",
                            "  flex-direction: column;\n",
                            "}\n",
                            "\n",
                            "#sk-container-id-2 div.sk-parallel-item:first-child::after {\n",
                            "  align-self: flex-end;\n",
                            "  width: 50%;\n",
                            "}\n",
                            "\n",
                            "#sk-container-id-2 div.sk-parallel-item:last-child::after {\n",
                            "  align-self: flex-start;\n",
                            "  width: 50%;\n",
                            "}\n",
                            "\n",
                            "#sk-container-id-2 div.sk-parallel-item:only-child::after {\n",
                            "  width: 0;\n",
                            "}\n",
                            "\n",
                            "/* Serial-specific style estimator block */\n",
                            "\n",
                            "#sk-container-id-2 div.sk-serial {\n",
                            "  display: flex;\n",
                            "  flex-direction: column;\n",
                            "  align-items: center;\n",
                            "  background-color: var(--sklearn-color-background);\n",
                            "  padding-right: 1em;\n",
                            "  padding-left: 1em;\n",
                            "}\n",
                            "\n",
                            "\n",
                            "/* Toggleable style: style used for estimator/Pipeline/ColumnTransformer box that is\n",
                            "clickable and can be expanded/collapsed.\n",
                            "- Pipeline and ColumnTransformer use this feature and define the default style\n",
                            "- Estimators will overwrite some part of the style using the `sk-estimator` class\n",
                            "*/\n",
                            "\n",
                            "/* Pipeline and ColumnTransformer style (default) */\n",
                            "\n",
                            "#sk-container-id-2 div.sk-toggleable {\n",
                            "  /* Default theme specific background. It is overwritten whether we have a\n",
                            "  specific estimator or a Pipeline/ColumnTransformer */\n",
                            "  background-color: var(--sklearn-color-background);\n",
                            "}\n",
                            "\n",
                            "/* Toggleable label */\n",
                            "#sk-container-id-2 label.sk-toggleable__label {\n",
                            "  cursor: pointer;\n",
                            "  display: flex;\n",
                            "  width: 100%;\n",
                            "  margin-bottom: 0;\n",
                            "  padding: 0.5em;\n",
                            "  box-sizing: border-box;\n",
                            "  text-align: center;\n",
                            "  align-items: start;\n",
                            "  justify-content: space-between;\n",
                            "  gap: 0.5em;\n",
                            "}\n",
                            "\n",
                            "#sk-container-id-2 label.sk-toggleable__label .caption {\n",
                            "  font-size: 0.6rem;\n",
                            "  font-weight: lighter;\n",
                            "  color: var(--sklearn-color-text-muted);\n",
                            "}\n",
                            "\n",
                            "#sk-container-id-2 label.sk-toggleable__label-arrow:before {\n",
                            "  /* Arrow on the left of the label */\n",
                            "  content: \"▸\";\n",
                            "  float: left;\n",
                            "  margin-right: 0.25em;\n",
                            "  color: var(--sklearn-color-icon);\n",
                            "}\n",
                            "\n",
                            "#sk-container-id-2 label.sk-toggleable__label-arrow:hover:before {\n",
                            "  color: var(--sklearn-color-text);\n",
                            "}\n",
                            "\n",
                            "/* Toggleable content - dropdown */\n",
                            "\n",
                            "#sk-container-id-2 div.sk-toggleable__content {\n",
                            "  max-height: 0;\n",
                            "  max-width: 0;\n",
                            "  overflow: hidden;\n",
                            "  text-align: left;\n",
                            "  /* unfitted */\n",
                            "  background-color: var(--sklearn-color-unfitted-level-0);\n",
                            "}\n",
                            "\n",
                            "#sk-container-id-2 div.sk-toggleable__content.fitted {\n",
                            "  /* fitted */\n",
                            "  background-color: var(--sklearn-color-fitted-level-0);\n",
                            "}\n",
                            "\n",
                            "#sk-container-id-2 div.sk-toggleable__content pre {\n",
                            "  margin: 0.2em;\n",
                            "  border-radius: 0.25em;\n",
                            "  color: var(--sklearn-color-text);\n",
                            "  /* unfitted */\n",
                            "  background-color: var(--sklearn-color-unfitted-level-0);\n",
                            "}\n",
                            "\n",
                            "#sk-container-id-2 div.sk-toggleable__content.fitted pre {\n",
                            "  /* unfitted */\n",
                            "  background-color: var(--sklearn-color-fitted-level-0);\n",
                            "}\n",
                            "\n",
                            "#sk-container-id-2 input.sk-toggleable__control:checked~div.sk-toggleable__content {\n",
                            "  /* Expand drop-down */\n",
                            "  max-height: 200px;\n",
                            "  max-width: 100%;\n",
                            "  overflow: auto;\n",
                            "}\n",
                            "\n",
                            "#sk-container-id-2 input.sk-toggleable__control:checked~label.sk-toggleable__label-arrow:before {\n",
                            "  content: \"▾\";\n",
                            "}\n",
                            "\n",
                            "/* Pipeline/ColumnTransformer-specific style */\n",
                            "\n",
                            "#sk-container-id-2 div.sk-label input.sk-toggleable__control:checked~label.sk-toggleable__label {\n",
                            "  color: var(--sklearn-color-text);\n",
                            "  background-color: var(--sklearn-color-unfitted-level-2);\n",
                            "}\n",
                            "\n",
                            "#sk-container-id-2 div.sk-label.fitted input.sk-toggleable__control:checked~label.sk-toggleable__label {\n",
                            "  background-color: var(--sklearn-color-fitted-level-2);\n",
                            "}\n",
                            "\n",
                            "/* Estimator-specific style */\n",
                            "\n",
                            "/* Colorize estimator box */\n",
                            "#sk-container-id-2 div.sk-estimator input.sk-toggleable__control:checked~label.sk-toggleable__label {\n",
                            "  /* unfitted */\n",
                            "  background-color: var(--sklearn-color-unfitted-level-2);\n",
                            "}\n",
                            "\n",
                            "#sk-container-id-2 div.sk-estimator.fitted input.sk-toggleable__control:checked~label.sk-toggleable__label {\n",
                            "  /* fitted */\n",
                            "  background-color: var(--sklearn-color-fitted-level-2);\n",
                            "}\n",
                            "\n",
                            "#sk-container-id-2 div.sk-label label.sk-toggleable__label,\n",
                            "#sk-container-id-2 div.sk-label label {\n",
                            "  /* The background is the default theme color */\n",
                            "  color: var(--sklearn-color-text-on-default-background);\n",
                            "}\n",
                            "\n",
                            "/* On hover, darken the color of the background */\n",
                            "#sk-container-id-2 div.sk-label:hover label.sk-toggleable__label {\n",
                            "  color: var(--sklearn-color-text);\n",
                            "  background-color: var(--sklearn-color-unfitted-level-2);\n",
                            "}\n",
                            "\n",
                            "/* Label box, darken color on hover, fitted */\n",
                            "#sk-container-id-2 div.sk-label.fitted:hover label.sk-toggleable__label.fitted {\n",
                            "  color: var(--sklearn-color-text);\n",
                            "  background-color: var(--sklearn-color-fitted-level-2);\n",
                            "}\n",
                            "\n",
                            "/* Estimator label */\n",
                            "\n",
                            "#sk-container-id-2 div.sk-label label {\n",
                            "  font-family: monospace;\n",
                            "  font-weight: bold;\n",
                            "  display: inline-block;\n",
                            "  line-height: 1.2em;\n",
                            "}\n",
                            "\n",
                            "#sk-container-id-2 div.sk-label-container {\n",
                            "  text-align: center;\n",
                            "}\n",
                            "\n",
                            "/* Estimator-specific */\n",
                            "#sk-container-id-2 div.sk-estimator {\n",
                            "  font-family: monospace;\n",
                            "  border: 1px dotted var(--sklearn-color-border-box);\n",
                            "  border-radius: 0.25em;\n",
                            "  box-sizing: border-box;\n",
                            "  margin-bottom: 0.5em;\n",
                            "  /* unfitted */\n",
                            "  background-color: var(--sklearn-color-unfitted-level-0);\n",
                            "}\n",
                            "\n",
                            "#sk-container-id-2 div.sk-estimator.fitted {\n",
                            "  /* fitted */\n",
                            "  background-color: var(--sklearn-color-fitted-level-0);\n",
                            "}\n",
                            "\n",
                            "/* on hover */\n",
                            "#sk-container-id-2 div.sk-estimator:hover {\n",
                            "  /* unfitted */\n",
                            "  background-color: var(--sklearn-color-unfitted-level-2);\n",
                            "}\n",
                            "\n",
                            "#sk-container-id-2 div.sk-estimator.fitted:hover {\n",
                            "  /* fitted */\n",
                            "  background-color: var(--sklearn-color-fitted-level-2);\n",
                            "}\n",
                            "\n",
                            "/* Specification for estimator info (e.g. \"i\" and \"?\") */\n",
                            "\n",
                            "/* Common style for \"i\" and \"?\" */\n",
                            "\n",
                            ".sk-estimator-doc-link,\n",
                            "a:link.sk-estimator-doc-link,\n",
                            "a:visited.sk-estimator-doc-link {\n",
                            "  float: right;\n",
                            "  font-size: smaller;\n",
                            "  line-height: 1em;\n",
                            "  font-family: monospace;\n",
                            "  background-color: var(--sklearn-color-background);\n",
                            "  border-radius: 1em;\n",
                            "  height: 1em;\n",
                            "  width: 1em;\n",
                            "  text-decoration: none !important;\n",
                            "  margin-left: 0.5em;\n",
                            "  text-align: center;\n",
                            "  /* unfitted */\n",
                            "  border: var(--sklearn-color-unfitted-level-1) 1pt solid;\n",
                            "  color: var(--sklearn-color-unfitted-level-1);\n",
                            "}\n",
                            "\n",
                            ".sk-estimator-doc-link.fitted,\n",
                            "a:link.sk-estimator-doc-link.fitted,\n",
                            "a:visited.sk-estimator-doc-link.fitted {\n",
                            "  /* fitted */\n",
                            "  border: var(--sklearn-color-fitted-level-1) 1pt solid;\n",
                            "  color: var(--sklearn-color-fitted-level-1);\n",
                            "}\n",
                            "\n",
                            "/* On hover */\n",
                            "div.sk-estimator:hover .sk-estimator-doc-link:hover,\n",
                            ".sk-estimator-doc-link:hover,\n",
                            "div.sk-label-container:hover .sk-estimator-doc-link:hover,\n",
                            ".sk-estimator-doc-link:hover {\n",
                            "  /* unfitted */\n",
                            "  background-color: var(--sklearn-color-unfitted-level-3);\n",
                            "  color: var(--sklearn-color-background);\n",
                            "  text-decoration: none;\n",
                            "}\n",
                            "\n",
                            "div.sk-estimator.fitted:hover .sk-estimator-doc-link.fitted:hover,\n",
                            ".sk-estimator-doc-link.fitted:hover,\n",
                            "div.sk-label-container:hover .sk-estimator-doc-link.fitted:hover,\n",
                            ".sk-estimator-doc-link.fitted:hover {\n",
                            "  /* fitted */\n",
                            "  background-color: var(--sklearn-color-fitted-level-3);\n",
                            "  color: var(--sklearn-color-background);\n",
                            "  text-decoration: none;\n",
                            "}\n",
                            "\n",
                            "/* Span, style for the box shown on hovering the info icon */\n",
                            ".sk-estimator-doc-link span {\n",
                            "  display: none;\n",
                            "  z-index: 9999;\n",
                            "  position: relative;\n",
                            "  font-weight: normal;\n",
                            "  right: .2ex;\n",
                            "  padding: .5ex;\n",
                            "  margin: .5ex;\n",
                            "  width: min-content;\n",
                            "  min-width: 20ex;\n",
                            "  max-width: 50ex;\n",
                            "  color: var(--sklearn-color-text);\n",
                            "  box-shadow: 2pt 2pt 4pt #999;\n",
                            "  /* unfitted */\n",
                            "  background: var(--sklearn-color-unfitted-level-0);\n",
                            "  border: .5pt solid var(--sklearn-color-unfitted-level-3);\n",
                            "}\n",
                            "\n",
                            ".sk-estimator-doc-link.fitted span {\n",
                            "  /* fitted */\n",
                            "  background: var(--sklearn-color-fitted-level-0);\n",
                            "  border: var(--sklearn-color-fitted-level-3);\n",
                            "}\n",
                            "\n",
                            ".sk-estimator-doc-link:hover span {\n",
                            "  display: block;\n",
                            "}\n",
                            "\n",
                            "/* \"?\"-specific style due to the `<a>` HTML tag */\n",
                            "\n",
                            "#sk-container-id-2 a.estimator_doc_link {\n",
                            "  float: right;\n",
                            "  font-size: 1rem;\n",
                            "  line-height: 1em;\n",
                            "  font-family: monospace;\n",
                            "  background-color: var(--sklearn-color-background);\n",
                            "  border-radius: 1rem;\n",
                            "  height: 1rem;\n",
                            "  width: 1rem;\n",
                            "  text-decoration: none;\n",
                            "  /* unfitted */\n",
                            "  color: var(--sklearn-color-unfitted-level-1);\n",
                            "  border: var(--sklearn-color-unfitted-level-1) 1pt solid;\n",
                            "}\n",
                            "\n",
                            "#sk-container-id-2 a.estimator_doc_link.fitted {\n",
                            "  /* fitted */\n",
                            "  border: var(--sklearn-color-fitted-level-1) 1pt solid;\n",
                            "  color: var(--sklearn-color-fitted-level-1);\n",
                            "}\n",
                            "\n",
                            "/* On hover */\n",
                            "#sk-container-id-2 a.estimator_doc_link:hover {\n",
                            "  /* unfitted */\n",
                            "  background-color: var(--sklearn-color-unfitted-level-3);\n",
                            "  color: var(--sklearn-color-background);\n",
                            "  text-decoration: none;\n",
                            "}\n",
                            "\n",
                            "#sk-container-id-2 a.estimator_doc_link.fitted:hover {\n",
                            "  /* fitted */\n",
                            "  background-color: var(--sklearn-color-fitted-level-3);\n",
                            "}\n",
                            "</style><div id=\"sk-container-id-2\" class=\"sk-top-container\"><div class=\"sk-text-repr-fallback\"><pre>RandomizedSearchCV(cv=5, estimator=MultinomialNB(), n_iter=50,\n",
                            "                   param_distributions={&#x27;alpha&#x27;: array([ 0.01      ,  0.06020101,  0.11040201,  0.16060302,  0.21080402,\n",
                            "        0.26100503,  0.31120603,  0.36140704,  0.41160804,  0.46180905,\n",
                            "        0.51201005,  0.56221106,  0.61241206,  0.66261307,  0.71281407,\n",
                            "        0.76301508,  0.81321608,  0.86341709,  0.91361809,  0.9638191 ,\n",
                            "        1.0140201 ,  1.06422111,  1.11442211,  1.1646231...\n",
                            "        8.54417085,  8.59437186,  8.64457286,  8.69477387,  8.74497487,\n",
                            "        8.79517588,  8.84537688,  8.89557789,  8.94577889,  8.9959799 ,\n",
                            "        9.0461809 ,  9.09638191,  9.14658291,  9.19678392,  9.24698492,\n",
                            "        9.29718593,  9.34738693,  9.39758794,  9.44778894,  9.49798995,\n",
                            "        9.54819095,  9.59839196,  9.64859296,  9.69879397,  9.74899497,\n",
                            "        9.79919598,  9.84939698,  9.89959799,  9.94979899, 10.        ]),\n",
                            "                                        &#x27;fit_prior&#x27;: [True, False]},\n",
                            "                   random_state=42, scoring=&#x27;accuracy&#x27;)</pre><b>In a Jupyter environment, please rerun this cell to show the HTML representation or trust the notebook. <br />On GitHub, the HTML representation is unable to render, please try loading this page with nbviewer.org.</b></div><div class=\"sk-container\" hidden><div class=\"sk-item sk-dashed-wrapped\"><div class=\"sk-label-container\"><div class=\"sk-label  sk-toggleable\"><input class=\"sk-toggleable__control sk-hidden--visually\" id=\"sk-estimator-id-4\" type=\"checkbox\" ><label for=\"sk-estimator-id-4\" class=\"sk-toggleable__label  sk-toggleable__label-arrow\"><div><div>RandomizedSearchCV</div></div><div><a class=\"sk-estimator-doc-link \" rel=\"noreferrer\" target=\"_blank\" href=\"https://scikit-learn.org/1.6/modules/generated/sklearn.model_selection.RandomizedSearchCV.html\">?<span>Documentation for RandomizedSearchCV</span></a><span class=\"sk-estimator-doc-link \">i<span>Not fitted</span></span></div></label><div class=\"sk-toggleable__content \"><pre>RandomizedSearchCV(cv=5, estimator=MultinomialNB(), n_iter=50,\n",
                            "                   param_distributions={&#x27;alpha&#x27;: array([ 0.01      ,  0.06020101,  0.11040201,  0.16060302,  0.21080402,\n",
                            "        0.26100503,  0.31120603,  0.36140704,  0.41160804,  0.46180905,\n",
                            "        0.51201005,  0.56221106,  0.61241206,  0.66261307,  0.71281407,\n",
                            "        0.76301508,  0.81321608,  0.86341709,  0.91361809,  0.9638191 ,\n",
                            "        1.0140201 ,  1.06422111,  1.11442211,  1.1646231...\n",
                            "        8.54417085,  8.59437186,  8.64457286,  8.69477387,  8.74497487,\n",
                            "        8.79517588,  8.84537688,  8.89557789,  8.94577889,  8.9959799 ,\n",
                            "        9.0461809 ,  9.09638191,  9.14658291,  9.19678392,  9.24698492,\n",
                            "        9.29718593,  9.34738693,  9.39758794,  9.44778894,  9.49798995,\n",
                            "        9.54819095,  9.59839196,  9.64859296,  9.69879397,  9.74899497,\n",
                            "        9.79919598,  9.84939698,  9.89959799,  9.94979899, 10.        ]),\n",
                            "                                        &#x27;fit_prior&#x27;: [True, False]},\n",
                            "                   random_state=42, scoring=&#x27;accuracy&#x27;)</pre></div> </div></div><div class=\"sk-parallel\"><div class=\"sk-parallel-item\"><div class=\"sk-item\"><div class=\"sk-label-container\"><div class=\"sk-label  sk-toggleable\"><input class=\"sk-toggleable__control sk-hidden--visually\" id=\"sk-estimator-id-5\" type=\"checkbox\" ><label for=\"sk-estimator-id-5\" class=\"sk-toggleable__label  sk-toggleable__label-arrow\"><div><div>estimator: MultinomialNB</div></div></label><div class=\"sk-toggleable__content \"><pre>MultinomialNB()</pre></div> </div></div><div class=\"sk-serial\"><div class=\"sk-item\"><div class=\"sk-estimator  sk-toggleable\"><input class=\"sk-toggleable__control sk-hidden--visually\" id=\"sk-estimator-id-6\" type=\"checkbox\" ><label for=\"sk-estimator-id-6\" class=\"sk-toggleable__label  sk-toggleable__label-arrow\"><div><div>MultinomialNB</div></div><div><a class=\"sk-estimator-doc-link \" rel=\"noreferrer\" target=\"_blank\" href=\"https://scikit-learn.org/1.6/modules/generated/sklearn.naive_bayes.MultinomialNB.html\">?<span>Documentation for MultinomialNB</span></a></div></label><div class=\"sk-toggleable__content \"><pre>MultinomialNB()</pre></div> </div></div></div></div></div></div></div></div></div>"
                        ],
                        "text/plain": [
                            "RandomizedSearchCV(cv=5, estimator=MultinomialNB(), n_iter=50,\n",
                            "                   param_distributions={'alpha': array([ 0.01      ,  0.06020101,  0.11040201,  0.16060302,  0.21080402,\n",
                            "        0.26100503,  0.31120603,  0.36140704,  0.41160804,  0.46180905,\n",
                            "        0.51201005,  0.56221106,  0.61241206,  0.66261307,  0.71281407,\n",
                            "        0.76301508,  0.81321608,  0.86341709,  0.91361809,  0.9638191 ,\n",
                            "        1.0140201 ,  1.06422111,  1.11442211,  1.1646231...\n",
                            "        8.54417085,  8.59437186,  8.64457286,  8.69477387,  8.74497487,\n",
                            "        8.79517588,  8.84537688,  8.89557789,  8.94577889,  8.9959799 ,\n",
                            "        9.0461809 ,  9.09638191,  9.14658291,  9.19678392,  9.24698492,\n",
                            "        9.29718593,  9.34738693,  9.39758794,  9.44778894,  9.49798995,\n",
                            "        9.54819095,  9.59839196,  9.64859296,  9.69879397,  9.74899497,\n",
                            "        9.79919598,  9.84939698,  9.89959799,  9.94979899, 10.        ]),\n",
                            "                                        'fit_prior': [True, False]},\n",
                            "                   random_state=42, scoring='accuracy')"
                        ]
                    },
                    "execution_count": 31,
                    "metadata": {},
                    "output_type": "execute_result"
                }
            ],
            "source": [
                "import numpy as np\n",
                "from sklearn.model_selection import RandomizedSearchCV\n",
                "\n",
                "hyperparams = {\n",
                "    \"alpha\": np.linspace(0.01, 10.0, 200),\n",
                "    \"fit_prior\": [True, False]\n",
                "}\n",
                "\n",
                "# We initialize the random search\n",
                "random_search = RandomizedSearchCV(mnb_model, hyperparams, n_iter = 50, scoring = \"accuracy\", cv = 5, random_state = 42)\n",
                "random_search"
            ]
        },
        {
            "cell_type": "code",
            "execution_count": 32,
            "metadata": {},
            "outputs": [
                {
                    "name": "stdout",
                    "output_type": "stream",
                    "text": [
                        "Best hyperparameters: {'fit_prior': False, 'alpha': np.float64(1.917638190954774)}\n"
                    ]
                }
            ],
            "source": [
                "random_search.fit(X_train_vec, y_train)\n",
                "\n",
                "print(f\"Best hyperparameters: {random_search.best_params_}\")"
            ]
        },
        {
            "cell_type": "code",
            "execution_count": 33,
            "metadata": {},
            "outputs": [
                {
                    "name": "stdout",
                    "output_type": "stream",
                    "text": [
                        "Accuracy: 0.8212290502793296\n"
                    ]
                }
            ],
            "source": [
                "model = MultinomialNB(alpha=1.917638190954774, fit_prior=False)\n",
                "model.fit(X_train_vec, y_train)\n",
                "\n",
                "# 3. Predicción y evaluación\n",
                "y_pred = model.predict(X_test_vec)  # <--- Usar X_test_vec\n",
                "print(\"Accuracy:\", accuracy_score(y_test, y_pred))"
            ]
        },
        {
            "cell_type": "markdown",
            "metadata": {},
            "source": [
                "GUARDAR MODELOS EN CARPETA PROCESSED "
            ]
        },
        {
            "cell_type": "code",
            "execution_count": 34,
            "metadata": {},
            "outputs": [
                {
                    "name": "stdout",
                    "output_type": "stream",
                    "text": [
                        "Modelo guardado en: data/processed/naive_bayes_model.pkl\n",
                        "Vectorizador guardado en: data/processed/text_vectorizer.pkl\n"
                    ]
                }
            ],
            "source": [
                "import joblib\n",
                "import os\n",
                "from sklearn.naive_bayes import MultinomialNB\n",
                "from sklearn.feature_extraction.text import CountVectorizer\n",
                "\n",
                "# 1. Asegurar que la carpeta 'processed' exista\n",
                "os.makedirs(\"data/processed\", exist_ok=True)\n",
                "\n",
                "# 2. Entrenar el modelo (si no lo has hecho antes)\n",
                "# Asumiendo que:\n",
                "# - X_train_vec es tu texto ya vectorizado (con CountVectorizer/TfidfVectorizer)\n",
                "# - y_train son tus etiquetas\n",
                "best_model = MultinomialNB()\n",
                "best_model.fit(X_train_vec, y_train)\n",
                "\n",
                "# 3. Guardar el modelo\n",
                "joblib.dump(best_model, \"data/processed/naive_bayes_model.pkl\")\n",
                "\n",
                "# 4. Guardar el vectorizador (asegúrate de que vec_model está definido)\n",
                "# Ejemplo si usas CountVectorizer:\n",
                "vec_model = CountVectorizer(stop_words='english')\n",
                "vec_model.fit(X_train)  # X_train es el texto sin vectorizar\n",
                "joblib.dump(vec_model, \"data/processed/text_vectorizer.pkl\")\n",
                "\n",
                "print(\"Modelo guardado en: data/processed/naive_bayes_model.pkl\")\n",
                "print(\"Vectorizador guardado en: data/processed/text_vectorizer.pkl\")"
            ]
        },
        {
            "cell_type": "code",
            "execution_count": 35,
            "metadata": {},
            "outputs": [
                {
                    "data": {
                        "text/plain": [
                            "['data/processed/naive_bayes_model_v1.pkl']"
                        ]
                    },
                    "execution_count": 35,
                    "metadata": {},
                    "output_type": "execute_result"
                }
            ],
            "source": [
                "# Para cargarlos luego:\n",
                "model_loaded = joblib.load(\"data/processed/naive_bayes_model.pkl\")\n",
                "vectorizer_loaded = joblib.load(\"data/processed/text_vectorizer.pkl\")\n",
                "\n",
                "# Ejemplo de uso:\n",
                "new_text = [\"This app is great\"]\n",
                "new_text_vec = vectorizer_loaded.transform(new_text)\n",
                "prediction = model_loaded.predict(new_text_vec)\n",
                "\n",
                "joblib.dump(best_model, \"data/processed/naive_bayes_model_v1.pkl\")"
            ]
        },
        {
            "cell_type": "markdown",
            "metadata": {},
            "source": [
                "COMPARATIVA CON OTROS MODELOS "
            ]
        },
        {
            "cell_type": "markdown",
            "metadata": {},
            "source": [
                "BAG OF WORDS "
            ]
        },
        {
            "cell_type": "code",
            "execution_count": 36,
            "metadata": {},
            "outputs": [
                {
                    "name": "stdout",
                    "output_type": "stream",
                    "text": [
                        "\n",
                        "Forma de la matriz Bag of Words (Train): (712, 3310)\n",
                        "Ejemplo de vector BoW: [[0 0 0 ... 0 0 0]]\n"
                    ]
                }
            ],
            "source": [
                "# bag of words \n",
                "\n",
                "from sklearn.feature_extraction.text import CountVectorizer\n",
                "\n",
                "# Crear vectorizador (considerando las 5000 palabras más frecuentes)\n",
                "vectorizer = CountVectorizer(stop_words='english', max_features=5000)\n",
                "\n",
                "# Aplicar solo a datos de entrenamiento (evitar data leakage)\n",
                "X_train_bow = vectorizer.fit_transform(X_train)\n",
                "X_test_bow = vectorizer.transform(X_test)  # Usar el mismo vocabulario\n",
                "\n",
                "print(\"\\nForma de la matriz Bag of Words (Train):\", X_train_bow.shape)\n",
                "print(\"Ejemplo de vector BoW:\", X_train_bow[0].toarray())"
            ]
        },
        {
            "cell_type": "markdown",
            "metadata": {},
            "source": [
                "ANALISIS DE PALABRAS CLAVES "
            ]
        },
        {
            "cell_type": "code",
            "execution_count": 37,
            "metadata": {},
            "outputs": [
                {
                    "name": "stdout",
                    "output_type": "stream",
                    "text": [
                        "\n",
                        "Top 10 palabras para reseñas POSITIVAS:\n",
                        "        word  weight_negative  weight_positive\n",
                        "135      app        -4.083951        -4.089590\n",
                        "1156    game        -5.416178        -4.526307\n",
                        "1221   great        -5.932869        -4.694444\n",
                        "1202    good        -5.433878        -4.879587\n",
                        "1623    like        -5.196550        -5.045101\n",
                        "1697    love        -6.894280        -5.128483\n",
                        "273     best        -7.262005        -5.319538\n",
                        "3113     use        -5.225123        -5.346206\n",
                        "2307  really        -5.745658        -5.430764\n",
                        "1521    just        -5.196550        -5.460617\n",
                        "\n",
                        "Top 10 palabras para reseñas NEGATIVAS:\n",
                        "        word  weight_negative  weight_positive\n",
                        "135      app        -4.083951        -4.089590\n",
                        "3088  update        -4.622948        -5.779070\n",
                        "1069     fix        -4.777098        -6.654539\n",
                        "2958    time        -5.040389        -5.821630\n",
                        "1905     new        -5.040389        -5.661287\n",
                        "832     dont        -5.064780        -5.624920\n",
                        "826   doesnt        -5.155165        -7.570830\n",
                        "1623    like        -5.196550        -5.045101\n",
                        "1521    just        -5.196550        -5.460617\n",
                        "3113     use        -5.225123        -5.346206\n"
                    ]
                }
            ],
            "source": [
                "from sklearn.feature_extraction.text import CountVectorizer\n",
                "import re\n",
                "\n",
                "# 1. Mejorar la función de limpieza de texto\n",
                "def clean_text(text):\n",
                "    # Eliminar caracteres no ASCII\n",
                "    text = re.sub(r'[^\\x00-\\x7F]+', ' ', text)\n",
                "    # Eliminar símbolos y caracteres especiales\n",
                "    text = re.sub(r'[^a-zA-Z\\s]', '', text)\n",
                "    # Convertir a minúsculas\n",
                "    text = text.lower()\n",
                "    # Eliminar espacios múltiples\n",
                "    text = ' '.join(text.split())\n",
                "    return text\n",
                "\n",
                "# Aplicar limpieza a tus datos\n",
                "datos['clean_review'] = datos['review'].apply(clean_text)\n",
                "\n",
                "# 2. Configurar mejor el vectorizador\n",
                "vectorizer = CountVectorizer(\n",
                "    stop_words='english',\n",
                "    token_pattern=r'\\b[a-zA-Z]{3,}\\b',  # Solo palabras de 3+ letras\n",
                "    max_features=5000  # Limitar a las 5000 palabras más frecuentes\n",
                ")\n",
                "\n",
                "# 3. Volver a crear la matriz de términos\n",
                "X_train_bow = vectorizer.fit_transform(X_train.apply(clean_text))\n",
                "X_test_bow = vectorizer.transform(X_test.apply(clean_text))\n",
                "\n",
                "# 4. Reentrenar el modelo\n",
                "model = MultinomialNB()\n",
                "model.fit(X_train_bow, y_train)\n",
                "\n",
                "# 5. Nuevo análisis de palabras importantes\n",
                "log_probs = model.feature_log_prob_\n",
                "feature_names = vectorizer.get_feature_names_out()\n",
                "\n",
                "word_importance = pd.DataFrame({\n",
                "    'word': feature_names,\n",
                "    'weight_negative': log_probs[0],\n",
                "    'weight_positive': log_probs[1]\n",
                "})\n",
                "\n",
                "print(\"\\nTop 10 palabras para reseñas POSITIVAS:\")\n",
                "print(word_importance[word_importance['word'].str.isalpha()]  # Filtrar solo palabras alfabéticas\n",
                "      .sort_values('weight_positive', ascending=False)\n",
                "      .head(10))\n",
                "\n",
                "print(\"\\nTop 10 palabras para reseñas NEGATIVAS:\")\n",
                "print(word_importance[word_importance['word'].str.isalpha()]  # Filtrar solo palabras alfabéticas\n",
                "      .sort_values('weight_negative', ascending=False)\n",
                "      .head(10))"
            ]
        },
        {
            "cell_type": "markdown",
            "metadata": {},
            "source": [
                "VECTORIZACION TF-IDF \n"
            ]
        },
        {
            "cell_type": "code",
            "execution_count": 38,
            "metadata": {},
            "outputs": [
                {
                    "name": "stdout",
                    "output_type": "stream",
                    "text": [
                        "\n",
                        "Precisión con TF-IDF: 0.7988826815642458\n"
                    ]
                }
            ],
            "source": [
                "#Vectorización TF-IDF\n",
                "\n",
                "from sklearn.feature_extraction.text import TfidfVectorizer\n",
                "\n",
                "# Crear vectorizador TF-IDF\n",
                "tfidf = TfidfVectorizer(stop_words='english', max_features=5000)\n",
                "\n",
                "# Aplicar a los datos\n",
                "X_train_tfidf = tfidf.fit_transform(X_train)\n",
                "X_test_tfidf = tfidf.transform(X_test)\n",
                "\n",
                "# Entrenar modelo con TF-IDF\n",
                "model_tfidf = MultinomialNB()\n",
                "model_tfidf.fit(X_train_tfidf, y_train)\n",
                "\n",
                "# Evaluar precisión\n",
                "y_test_pred_tfidf = model_tfidf.predict(X_test_tfidf)\n",
                "print(\"\\nPrecisión con TF-IDF:\", accuracy_score(y_test, y_test_pred_tfidf))"
            ]
        },
        {
            "cell_type": "markdown",
            "metadata": {},
            "source": [
                "RANDOM FOREST "
            ]
        },
        {
            "cell_type": "code",
            "execution_count": 39,
            "metadata": {},
            "outputs": [
                {
                    "name": "stdout",
                    "output_type": "stream",
                    "text": [
                        "Random Forest Accuracy: 0.7989\n"
                    ]
                }
            ],
            "source": [
                "\n",
                "# modelo de random forest\n",
                "\n",
                "from sklearn.ensemble import RandomForestClassifier\n",
                "\n",
                "# Entrenar Random Forest\n",
                "rf_model = RandomForestClassifier(n_estimators=100, random_state=42)\n",
                "rf_model.fit(X_train_vec, y_train)\n",
                "rf_accuracy = accuracy_score(y_test, rf_model.predict(X_test_vec))\n",
                "\n",
                "print(f\"Random Forest Accuracy: {rf_accuracy:.4f}\")"
            ]
        },
        {
            "cell_type": "markdown",
            "metadata": {},
            "source": [
                "REGRESION LOGISTICA "
            ]
        },
        {
            "cell_type": "code",
            "execution_count": 40,
            "metadata": {},
            "outputs": [
                {
                    "name": "stdout",
                    "output_type": "stream",
                    "text": [
                        "Regresión Logística Accuracy: 0.8324\n"
                    ]
                }
            ],
            "source": [
                "# modelo de regresión logistica\n",
                "\n",
                "from sklearn.linear_model import LogisticRegression\n",
                "\n",
                "lr_model = LogisticRegression(max_iter=1000)\n",
                "lr_model.fit(X_train_vec, y_train)\n",
                "lr_accuracy = accuracy_score(y_test, lr_model.predict(X_test_vec))\n",
                "\n",
                "print(f\"Regresión Logística Accuracy: {lr_accuracy:.4f}\")"
            ]
        },
        {
            "cell_type": "markdown",
            "metadata": {},
            "source": [
                "COMPARATIVA ENTRE MODELOS "
            ]
        },
        {
            "cell_type": "code",
            "execution_count": 42,
            "metadata": {},
            "outputs": [
                {
                    "name": "stdout",
                    "output_type": "stream",
                    "text": [
                        "Naive Bayes: 0.8156\n",
                        "Random Forest: 0.7989\n",
                        "Regresión Logística: 0.8324\n",
                        "\n",
                        "Precisión con TF-IDF: 0.7988826815642458\n"
                    ]
                }
            ],
            "source": [
                "#comparativa entre modelos naive bayes, random forest y regresion logistica\n",
                "\n",
                "print(f\"Naive Bayes: {accuracy_score(y_test, best_model.predict(X_test_vec)):.4f}\")\n",
                "print(f\"Random Forest: {rf_accuracy:.4f}\")\n",
                "print(f\"Regresión Logística: {lr_accuracy:.4f}\")\n",
                "print(\"\\nPrecisión con TF-IDF:\", accuracy_score(y_test, y_test_pred_tfidf))\n",
                "\n"
            ]
        }
    ],
    "metadata": {
        "kernelspec": {
            "display_name": "Python 3",
            "language": "python",
            "name": "python3"
        },
        "language_info": {
            "codemirror_mode": {
                "name": "ipython",
                "version": 3
            },
            "file_extension": ".py",
            "mimetype": "text/x-python",
            "name": "python",
            "nbconvert_exporter": "python",
            "pygments_lexer": "ipython3",
            "version": "3.11.4"
        },
        "orig_nbformat": 4
    },
    "nbformat": 4,
    "nbformat_minor": 2
}
